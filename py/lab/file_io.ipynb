{
 "cells": [
  {
   "cell_type": "code",
   "execution_count": 2,
   "metadata": {},
   "outputs": [
    {
     "name": "stdout",
     "output_type": "stream",
     "text": [
      "dummy output\n"
     ]
    }
   ],
   "source": [
    "import os\n",
    "import pickle\n",
    "# note that file permissions differ between local and docker\n",
    "data_path = os.environ['DATA_PATH']\n",
    "result_file = 'result_docker'\n",
    "result = 'dummy output'\n",
    "with open(os.path.join(data_path, result_file), 'w+') as fh:\n",
    "    fh.write(result)\n",
    "with open(os.path.join(data_path, result_file), 'r') as fh:\n",
    "    obj=fh.read()\n",
    "print(obj)"
   ]
  },
  {
   "cell_type": "code",
   "execution_count": null,
   "metadata": {},
   "outputs": [],
   "source": []
  }
 ],
 "metadata": {
  "kernelspec": {
   "display_name": "Python 3",
   "language": "python",
   "name": "python3"
  },
  "language_info": {
   "codemirror_mode": {
    "name": "ipython",
    "version": 3
   },
   "file_extension": ".py",
   "mimetype": "text/x-python",
   "name": "python",
   "nbconvert_exporter": "python",
   "pygments_lexer": "ipython3",
   "version": "3.7.4"
  }
 },
 "nbformat": 4,
 "nbformat_minor": 4
}
