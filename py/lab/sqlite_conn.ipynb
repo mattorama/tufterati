{
 "cells": [
  {
   "cell_type": "code",
   "execution_count": 3,
   "metadata": {},
   "outputs": [],
   "source": [
    "import os\n",
    "import sqlite3\n",
    "\n",
    "import pandas as pd\n",
    "\n",
    "from app.sqlite_app import create_table_and_query\n",
    "from utils.db_utils import db_connect, sqlite_version_check"
   ]
  },
  {
   "cell_type": "code",
   "execution_count": 4,
   "metadata": {},
   "outputs": [
    {
     "name": "stdout",
     "output_type": "stream",
     "text": [
      "SQLite Database Version is:  [('3.30.1',)]\n",
      "(1, 13, 26.0, 100, 1)\n",
      "(2, 14, 28.0, 100, 2)\n",
      "(3, 12, 36.0, 120, 1)\n",
      "(4, 13, 39.0, 120, 3)\n",
      "   id  is_x       color        when  real  rational whenagain\n",
      "0   1     1      Fuscia        None  16.0       NaN     13:36\n",
      "1   2     0     Crimson    1/7/2019  92.0      58.6     16:33\n",
      "2   3     0  Aquamarine  12/27/2018  85.0      38.0     21:40\n",
      "3   4     0        Puce   2/24/2019  86.0      15.1     19:32\n",
      "4   5     0      Violet   6/24/2019  71.0      73.4     19:31\n"
     ]
    }
   ],
   "source": [
    "# connect to in-memory database\n",
    "con = db_connect(':memory:')\n",
    "\n",
    "# check sqlite version\n",
    "_ = sqlite_version_check(con)\n",
    "\n",
    "# create a table and query the content\n",
    "create_table_and_query(con)\n",
    "\n",
    "# read a csv into a table and query the content\n",
    "csv_path = os.path.join(os.environ['DATA_PATH'], 'mock1.csv')\n",
    "df_1 = pd.read_csv(csv_path)\n",
    "df_1.to_sql('mock', con, if_exists='append', index=False)\n",
    "\n",
    "# return the results of a query read from a text file\n",
    "query_path = os.path.join(os.environ['DATA_PATH'], 'sqlite_query.sql')\n",
    "with open(query_path, 'r') as obj:\n",
    "    sql_query = obj.read()\n",
    "df_2 = pd.read_sql(sql_query, con)\n",
    "print(df_2)"
   ]
  }
 ],
 "metadata": {
  "kernelspec": {
   "display_name": "Python 3",
   "language": "python",
   "name": "python3"
  },
  "language_info": {
   "codemirror_mode": {
    "name": "ipython",
    "version": 3
   },
   "file_extension": ".py",
   "mimetype": "text/x-python",
   "name": "python",
   "nbconvert_exporter": "python",
   "pygments_lexer": "ipython3",
   "version": "3.7.4"
  }
 },
 "nbformat": 4,
 "nbformat_minor": 4
}
